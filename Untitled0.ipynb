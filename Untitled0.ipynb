{
  "nbformat": 4,
  "nbformat_minor": 0,
  "metadata": {
    "colab": {
      "name": "Untitled0.ipynb",
      "provenance": [],
      "authorship_tag": "ABX9TyMa+Vfw8/ALMZIp/LzRG1z1",
      "include_colab_link": true
    },
    "kernelspec": {
      "name": "python3",
      "display_name": "Python 3"
    },
    "language_info": {
      "name": "python"
    }
  },
  "cells": [
    {
      "cell_type": "markdown",
      "metadata": {
        "id": "view-in-github",
        "colab_type": "text"
      },
      "source": [
        "<a href=\"https://colab.research.google.com/github/samuelj2008/samuelj2008/blob/main/Untitled0.ipynb\" target=\"_parent\"><img src=\"https://colab.research.google.com/assets/colab-badge.svg\" alt=\"Open In Colab\"/></a>"
      ]
    },
    {
      "cell_type": "code",
      "execution_count": null,
      "metadata": {
        "id": "q8PbhOq_x8cw"
      },
      "outputs": [],
      "source": [
        ""
      ]
    },
    {
      "cell_type": "markdown",
      "source": [
        "A predator- prey system"
      ],
      "metadata": {
        "id": "krxMG9LEx-Cm"
      }
    },
    {
      "cell_type": "code",
      "source": [
        ""
      ],
      "metadata": {
        "id": "_wEggchpyHak"
      },
      "execution_count": null,
      "outputs": []
    },
    {
      "cell_type": "markdown",
      "source": [
        "If no lynx are present, we will assume that the hares reproduce at a rate proportional to their population and are not affected by overcrowding. That is, the hare population will grow exponentially,\n",
        "\n",
        " \n",
        "$\\frac{dH}{dt}=aH$"
      ],
      "metadata": {
        "id": "NG-B-HupyIZ6"
      }
    },
    {
      "cell_type": "code",
      "source": [
        ""
      ],
      "metadata": {
        "id": "1Pp1KN4izGBe"
      },
      "execution_count": null,
      "outputs": []
    },
    {
      "cell_type": "markdown",
      "source": [
        "Since the lynx prey on the hares, we can argue that the rate at which the hares are consumed by the lynx is proportional to the rate at which the hares and lynx interact. Thus, the equation that predicts the rate of change of the hare population becomes\n",
        "\n",
        "$\\frac{dH}{dt}=aH-bHL$\n",
        "\n",
        "We are thinking of HL as the number of possible interactions between the lynx and the hare populations."
      ],
      "metadata": {
        "id": "b_wm7cKuzJJH"
      }
    },
    {
      "cell_type": "code",
      "source": [
        ""
      ],
      "metadata": {
        "id": "jSR1-zBXzhts"
      },
      "execution_count": null,
      "outputs": []
    },
    {
      "cell_type": "markdown",
      "source": [
        "If there is no food, the lynx population will decline at a rate proportional to itself,\n",
        "\n",
        "$\\frac{dL}{dt}=-cL$"
      ],
      "metadata": {
        "id": "63WvFJ6C0IS2"
      }
    },
    {
      "cell_type": "markdown",
      "source": [
        ""
      ],
      "metadata": {
        "id": "fFMe6PudztQW"
      }
    },
    {
      "cell_type": "markdown",
      "source": [
        "The lynx receive benefit from the hare population. The rate at which lynx are born is proportional to the number of hares that are eaten, and this is proportional to the rate at which the hares and lynx interact. Consequently, the growth rate of the lynx population can be described by\n",
        "\n",
        "$\\frac{dL}{dt}=-cL+dHL$"
      ],
      "metadata": {
        "id": "iKsmLJDx0itS"
      }
    },
    {
      "cell_type": "code",
      "source": [
        ""
      ],
      "metadata": {
        "id": "Qzy9sRsy1BsW"
      },
      "execution_count": null,
      "outputs": []
    },
    {
      "cell_type": "markdown",
      "source": [
        "We now have a system of differential equations that describe how the two populations interact,\n",
        "\n",
        "$\\frac{dH}{dt}=-cL+dHL$\n",
        "\n",
        "\n",
        "$\\frac{dL}{dt}=-cL+dHL$"
      ],
      "metadata": {
        "id": "0fd9-qd71IPV"
      }
    },
    {
      "cell_type": "code",
      "source": [
        ""
      ],
      "metadata": {
        "id": "lOWYsrWG1uGs"
      },
      "execution_count": null,
      "outputs": []
    },
    {
      "cell_type": "markdown",
      "source": [
        ""
      ],
      "metadata": {
        "id": "psGxdrsS1yil"
      }
    },
    {
      "cell_type": "markdown",
      "source": [
        "We will learn how to analyze and find solutions of systems of differential equations in subsequent chapters; however, we will give a graphical solution in  to the system\n",
        "\n",
        "$\\frac{dH}{dt}=0.4H-0.01HL$\n",
        "\n",
        "\n",
        "$\\frac{dL}{dt}=-0.3L+0.005HL$"
      ],
      "metadata": {
        "id": "4jb_XtFn19-R"
      }
    },
    {
      "cell_type": "code",
      "source": [
        ""
      ],
      "metadata": {
        "id": "rmmBXds32e3f"
      },
      "execution_count": null,
      "outputs": []
    },
    {
      "cell_type": "markdown",
      "source": [
        "![image.png](data:image/png;base64,iVBORw0KGgoAAAANSUhEUgAAAQUAAADBCAIAAABJ+jLQAAAgAElEQVR4nO2de3BT173vv2mRFbKFZBtkIwF+INuAeZmHCI84NSElzWvyanJO0iHN3Jucnk76mDaXdu5kTpqc3nTmhqZ/tE3TocydtG6aTtK0xwlMExJqGqihiIcxtrAty7awsZCFLVt4ByTRcP/YtizL2nuv15bdM/oMw0hbktfW1l6/9Vu/5003btxAjhw5AACfm+kTyJFjFpGbDzlyTJI+H8LhcDgcjsViygMAXq83+arf74/FYmkfUd6c+pLH40m+6vV6p38kR47ZSfp8ePHFF3t7e81m83e+851oNOr3+2VZBuD3+71er8vlevvtt9M+YjabX3zxxeHhYbPZDMDr9RYWFioP/H5/dXX1Bx98kJXvkiMHL+nz4cqVK263W3nscrmamprcbvfo6Ojvf//7YDAIwGq1jo6Opn1qdHQ0+akDBw64XK5wOPzaa68lV4bcEpHjn4Ip8yEWi3322Wcej6e+vn7t2rUALl26BMBmsw0MDOzYsQNAZWXlmTNn0v6KzWZLPi4oKABgt9vNZrPL5QJgsVj6+/sN/iI5cghgynxoaWl59NFH3W631Wqtq6sDEI/HAcRisbKyMjUZ7/F4du7cCcDr9SaXjlgsVl1drTweGxsz7gvkyCGQyfkwOjr61ltvKQ/eeecd5WBJSUnyDX6/H4DP51u3bp3H42loaFDe/MYbb0Sj0YaGhgMHDthstkgkAkBZEJSPAFiwYEGWvlCOHDzc0KSrq+vEiROpR371q18pD9KOJzlx4kRXV1fGj+TIMcvR8T+4XC7FvqTg9XofffRRAKOjo2vWrMn4Ebfb3dfXl/qRXbt2iZi5OXIYzk03cvEaOXJMkPNP58gxSW4+5MgxCeN8GB0dTQ3KyJHjvweM8yEej0ejUbGnkiPHjJPTl3LkmGSO7jtisdjbb7+9ZMmSurq6+vr6DRs2JB3PWeJnP8OOHcjyoAqhEPbuxX/8xwwMDeDAAQC4996ZGf2HP8S//RuKi2dgaK8Xhw7hm9+cesy7b98+tnvPbDZ/+OGHr732WmpgUUb050N/f7/T6fR4PJIkbd26tbGxUTmnz3/+8wxnRs2bb+Kxx7B3LyorYTJlY8RUfvxjvPgi9uzB7t3ZHjoZZu/1zoAs2LMH3/0uXn0VL7yQ7aETCbz7Lp58Em++ia98JfWVxx9/PBk2ysA777zz9NNPa7+HSF8aGBgAIMuyEnYRi8Xy8vI8Hk82ttR+P4qL8a//isZGw8dKw+PBY49BkjBHX2qI58AB3Hsv7r0XH36Y7aETCeTlQZJwxx1IyX7JEgcP4sknUVqKiWCfbEI0H5RIvnXr1u3du9dsNpvN5ng87na7eSYrEV4v7rgDACorcfassWNN5/BhKF/wrrtw9GhWh04kcPPN44+vX8/q0AAaG3HPPQBw6604dCjbo58+jdJSANi8GT6f/vsTCcjylP8VIhGGwfXng8vl2rVr1+7du2022+7du5PBF//4xz8YxqPj0CHceuv443nzkEgYPmIqyTuyuhrHjmV16OZmbN48/njjRqLbQiDHj6OyEgBMJly7ltWhZRnJENJt29DUpP+RsTH84hcwmfDii4jHoSQjHD0Ki4VBihGtD0ri2wxw7drknmHZMvT2Zm/oUAgpsb3Iy8ve0ACOH0dNzfjjTZuIbguBFBRMPnY62QQtI6mbJUnC8HD6G2QZBw7g4EEcODB+YsEgCgrg9WLVKni9WLcOPh+OHYPJhECAdvx/HntrTQ2m5SEZyMmTk3ckALM5q6vT9euTgkCSkE1XTyQyxaa0bh26urI3+tmzU4wH0zNn8vKwahWWLcOqVbBYAKC1FY8/DlnG1q0YHIQkIZHAgw+yjc8+Hwy3L3m92LJl8qnFktXboq9vXItV2LAhq0pL2n0wMpK9oT0erFs3+dThQGdn9kaXZUjS5NNly9JXJ5MJpaXj/0wmRCLYvx/xOH72M1itKC+HLEOWoeRj0hsk2edDl9Fio7UVK1dOPjWZMDBg7IiphMNTnpaUoKcnS0MHArjttilHHI7srU4XLqCsbPJpQUFWL3uayFu1Cm1tWu8vKMBvfjP+f3Exqqvxt7/B7cb27YhEUF5OOz77fLDb7cyfJaK9fYoiC0DPmSKM1F2dQnExuruzNHpHB5YunXJk+fLsrU4DAzPg51EIhbB+/ZQjlZVob9f+kCyjp2fcqhQMAtu3KwcvXzGD3v7JPh8sivZmHGmTAUBFBcMOiYXLlzE9wTVr28qzZ6eoagAqK7O0OiUScDrTDzqdSMkJM5ALF9IlOoFSkEjgj38cV7KamwGT6d13IUk4dvYWhlOYxfvpzz5LP1JejsHBbAzd0YFVq9IPOp1ZUlqmu/+Ki7PkFxsbw9y56Qftdly+nI3Rvd50QYB0sRgM4pVX8OqreOWVcRFx7hzuvx8AOjvhcmFkZFzDslhYZvFMeF5JiESmaLEKpaX4wx8YFkFqwmFs25Z+cO5cjI1lWLWEk7EcSXYMvl1dqKpKP7hsGbq7M9ypwolGp2ymFaa6Ix0OfO97U15vb0dtLTo7MTqKBQtw9aqiMan+PW1m6/rQ1jbuEkolLy9LJqbh4QwXsrQ0S2Iy48Zs+mppBD096RsnAFZrlrbUGX1/RUUacl4xvB05gosX4Xajt3dyeRsbg8NBfQrs64Ox9taBgSnGJYWs7fMybhWWLEFra4ZZKhbFrzSd7ERtRKMZAlotFly9mo3RM86HqioEAmoRjfn5eOaZyadz5iA/H7W1kGUsWcJyCuzrg7HBfB0dmTWTLGxqEwm4XBmOW63Z2FaGQplDrKurEQoZPnrGdSA7lu5QCBkrthQVgbi4Y23t+ANJmuJNJYd9PhgbzKdmvMqC+j4wgPz8zEMHg4aPrrYEFRXhwgXDR1ezaM+bZ/jQFy5g/vwMx53ObHzxCdj1JQPj+RIJ1R9g2TIEAsbu7QYHUVSU+aVphZzFo7YAlpQYHuEbiWSwMissWpTuORbOwABuvz3D8ZTVSSkFxlAb22w2E35qVtqX4nHVlwoKMDho7Hzo7ByPdp6O2jwRiNoCWFyM8+exc6eBQ0ejmRdGAJKEy5eNnQ+dnXjggcwvzZsHwG63/+lPf9q3bx/zCHfddZfue2blfLh8ObMGD6CkBCdPGjv61auq2lphISIRY3U2jX2z0atTd3fmrTx0jDxiSEbXT2fePCQSdrv9+eef9xucJDQr7UsdHaqRJ1mIm7h6VdWQZTZrrV38JBIoLFR91ei908CA6ia0ogIffWRs2qp2okU8rvwoLjVBKYhZaV+6elVVkYXeheNHw4TldGJoyMChfT6te85oc/P166oLYxY8Pxo/q91urBhKYVbal7q7tWSh0bYOjaGNjnLt71fV4AHEYsYGjAwOqk65vDxjHSCyjGXLVF+trMxaDgb7fDDQvnTlCvurnIRC6bGlqeTlGeuiHhnJEE6XpKwscyiHKDQktMkEQzueBQJaX1ySshS3NkvjNbJgxlFjaEgrqtxoDb69XcuG43Qa6ABJJDJEaqRi6G4+FNLyJ2fHEwpgNs4HWc4QYplKaamBV6e/Xyciw1BBpf3F8/PJPbXUqHkhkxgqpDo6tGzo2fGEApiN+aLxuM5t4XQamAXR0aFl4YHBu3nt9WfBAgMTR2U5s3s4yZIlBgaM6EqZLHhCAcxG+1IwqGoFVygszFB2QRQmk44Zx7isQFnW2bMWFBgoCHy+DAGUqdxyi4G2NV0bSbZSI9nnw/q01D5R+Hw6flCHw8AfRnfX6HAYFVMYj+sHKBsXZxoO66RYFBcbqKbqVkDMz89OMtbs2z/EYlrOBwAFBQZWfNBdl+fONcoS39WlH0xu6IZeez6Ulhp12RMJouyOrHRtnn3z4eJF/TgZ48Sk7rpcUGCUmFRqB2ljtRolJq9c0VEUjbM1k2Tu5OdnxyWnPx9isZjf71fiRsLhMEN0IR0kYsAgl1wohBUrdN5TUWFUqQtZ1lkYASQSRt0Wul4dkwkGlWns6tIvDFNZaWxkwAT68+HatWt9fX0/+clPwuHwBx988NOf/lQ5bpR9iaRsh7YBipkLF/QVkry89NJMoiBZGA364oCWOyyJQUtTJKJj6gUgSdmpuKM/H2w228qVKx9++OG2trbHHnts4cKFyhLR19cnPthQlrFokf7bDIpcGBvTt7Ln5RkVR0Tidy8tNSRVLRAgyjU2yJCg7ZVXsFqNdZBPQLR/aGhouO2224qKio4ePXrp0iWlvPHc/v4Fuus7LWNjRIuyQYH4ra36mRUmk1H7aRKHV3GxIS45WSYyaN50k/ihAXR06P+g2crhJpoP27dvN5vN1dXVVqv1qaeeUg4Wzpun232ImmhUxyuk4HIZIiYJfW1GOMV0vfIKVqshs7G/nyj9vqQk2y0HkphM2QlhIpoPyaBzt9udLFN5w4jq852dRAUsLBZDro5GSorRxONEXYgsFkPMjhcuEO0fSkoMEUOELs7Zsz5MJy8vz5AQ3JERosJbRUWG6LKENY6MqC58+TJREqxBkZ6EFmQjxFAiQdqOLCsuag7/gxHWaI1czVQMiuQhNGU6HOIDRnp6SAsGGbE+mM1ERoKiIvGb2onEN30WLMhClCtHPJ8R9Yx1vUIKkoSLFwUPnUiQhnAaEckzMkKqrRlx2QktyE6nbrVtajRy5dMwmbLgomafD6eHhsQrLeS5PsIvjc9H+sMYEclz9apOXG2SwkLx2hrhVFT6j4ilo4O0xXV+fhaa2XHE8y1bJt7WQbKrUxAuJkMh0juytFR81uiFC6Rqw5w5gmWBLGejVrEaV6/CaiV65+LFWTAxceSLLlwoOHYgFKKIphYeshEOk9a/zcsTnwlAbtqyWARf9kCA4rILN8GFw6Trw/z5WWiCwTgf4vH4TWVlgn1D0ShFPML164KVlkCANHpUuH+afOsCA2p8DA+T3pEwoKwyeeJbXl4WTK7s68MNh0OwNToUomj4JTySh0o3FTslhocpvg5NfV8iqOp/Cp8PVAsjoWWWA754b7FXR7vIQhoOh2CDL1Xim1hBde2afkBbkptvFmxr7u6miH8Rm4BBtTCaTAbmRU7AYV/q7hZs6LhyhaILzuLF6OsTOTrVdxG7ox0cpFgYLRbBl518KgJwuUTmrNJeRuO7HbDPh7q6OsFics4cCj1EkkTmmCcSdCoQoUmEkM5O/cyHJEpp4ZlCrIs6Hqf44jAy3H0C9vkgy7JgezBVTRGrVaS2NjysVYZsOhUVgk1MVO3hxBaboNK+iopEro0+H12LaONbWvLtH2YwAK6gQGSbDJ8PixdTvF+sizpjuzoNxIpJKn1pwQKRRpShIaJw5iQWi9FbCL75UFIiTKVLJOgkNIRqk6OjdHdkcbHIH4b2ixQVCROToZBW4dTpSJLI+RCL0S2MxhVzmIBvPlitwnTZgQHq0kYC01OCQQrTFoD580UqLbTyXun8KwSSFNk0BG4aQyG60QsKZq++1NXVJdLWMThI/cMwtFNVY2CAbj9dXCws3J0hXMJsFiYmIxHqQpQC465pF0bjijlMwD4fysvLUVIibFs5MICKCrqPzJ0rzEXNoJGLuiMZ+lA5ncK+OEOjdYHJurRTy7hiDhPw6UvFxRBVUqC3lyVET1QkD4ObiWobqoEsU0togW0oGIynV6+KUQpkmXqFp9psMMFdj0yUNkmYkpKKqLYxuoVTM0KYTKeLz6dTaH46eXnCXNQMyo8o3wth7YhUTCaj+9JzzwdRkTwMIqe8XJg2SRjpnYqopSkcpl4YBYpJhhJjJSVibGuEtSPSMLQbjoD5ICqBkEHgWa1inACBAJ1XSEFgbBnt/S1JYpblRIJFDBUXi/H8ENaOSMPgEFf2+TCmmPxEmR0ZXHt5eWJmY38/S7MPpUU5P7LMssYK6Q8Sj7MsjKKy5AhrR6RhcO8o9vkQVQwsQnylkQiqqqg/JapG1cgIi04sqi1Ltjp9ZCAQYLnsooo5aLQz1cDQtiw882GJUg9CSEhJMMiiSoqqUUXrFVIQ1ZaFzZwvpC2LdjtTNQoKxBRz0GhnqoGhbVkE9Bd1OsFfmIwqRSsVIQGFbKu/EBd1KISyMpYPCmnLot3nWwMhm1q2387QtiwC9tMWi4DVs72d8bYQ4gRgS8UuLkZ3N+/QQ0OM5ss5cwREymj3+dZASPI62xInPCtzKkTzYd++fQ0NDQBefvll5cEkQgKAg0FGuy2/tGBwhyXhl9DDw3RxtUmEhPQxi3n++aDdYFcDi0WAPqKO/nzweDyhUMhmsx0+fPgb3/hGsiXKeP+H0lJ0dPCeBY+Y55yNPG4EflsC88IoxEXNk/zJKYaiUUYJaDIJ84Rmgmh9eOihh7q6ugDE43EAZrM5Ly/P4/EcPnwYMNxFogV/japolC6yNRX+ZGLCeoTTsVh4Ta6JBPt85nfCUtWOSMPILDn9+eB2u0+dOmW32+vq6t54442KigoA8Xjc7XbX1dUBIjxTzPc0f42q7m7qvIsk/JE8zD9tXh5v5AJ54dTpOBy8y7Lfzy6GjHTJEd3Ku3btUh7s3r07eXDcvgTu+UBVZCENhwMffQS3m330cBjV1Yyf5ReTzEsr/9DkhVOns3gxfD5Gk6BCIsEedWKkPiKivyinoCIvnJoRTmlBXjh1OvxikkfZ4/zi3d3sNzR/MYfr19mntEHdNAHMivlAXjh1OvxVXNm8QgpOJ5cSL8t0uZppcIrJaJQ9UpW/mAOPlltVZZyLmqPefbK/KGcWXzjMXk+Xv0YVj4TOz+cqlUdVf206nHlq5IVTp1NQwLub55HxNptxLmr2+eDxeMYfLV/OZRImaaenAY+YZChikApnd3Rmr7xCWRmXA4TTq8Uj4EMhrssutpjDVNjngzu5iy0s5Fq/OIvW8IjJ4WGujSmni9rvZ3Q+KFitXEKaUwvnMXoye+UVnE7jXNTc8UvgjuTh/GF4xGQ0yhsYxyOhyXs+ZITHN8/jlVfgUZKZvfIKkiTABayCiP00j5hkS0lJZc4c9tT+nh6uhRt8YpLTGOBwsLuo+UNseGreMHvlkxhWCE/EfACHmGRLSUmlqIhdTAaDvNnAPC5qTr8NT9x1NMrbE4inLQuzVz6JYSZXEfYlcJyf18uSkpIKTyRPIiHAYss8G/mD1T/H+vOx5WqmwtOWhT+gQXib0wn46pElYVYbGOphpcETyROJ8Aoqq5VRTLKlBKbBUA1AgS1XMxUeMcQfF2xYSB/7fLCn7kSZtwHhMJcNHnzFJvgldHk5Yx5CVxfvFweHrfnKFd5gRJ6aN/zajqjk9WmwzwdLqqbBrIX7/bwSmrkmD6d7WCE/n1FM8i+M4JjP/Hm2FgvjZQ8EsHIl7+jl5SLbsqQgaD/tcjG65ITE7rL9ugMDAtLrrFbGOKLz5wV0uV26lHFZ5q/BajIxVp1hKNQ7HUkyKGRD0HwoLGSJXEgkxPQjY5tUIyNcVnCFwkJGtUFIWQ2nk6UiWyQishQ0LQMD7AHFSRwOgwq5CpoP8+fj00+pPyWqxF1pKcsWzesVIKGZxaSQOkJskQvRqJiaxA4Hy+rU0iJg9IKCWacvjaW6Y9hccjwh+KnY7Syb2qtXxRR+ZPAN8XshFUpLWW6Lvj6sWiVgdKuVZTbyG7gVxPZqm4B9PoTTFiwGCd3RweseViguZlFaaHsoqsGQ2s/vhVSQJBYx5PeLqUnMlqwrqs6nqPrqU2GfDxVp7RoYtmhshfGmU1qKzk7qT4lqtzVnDnXkAr8XMgnb6iRESJeXs7Q8FiXXTSYjegWJiOdTkCTq8wsExOynJYnaxJRICDD/KzCU3R8cFFaHlMGWz1zdJ40FC6i1tVBIwGZaQWA96RQE7acVaG8LgSogbeRCb6+YrQuA8nJ4vXQfCQYFbOUVGFxyojR4ht0XbYNdDZYvNyLqW9x8KCmhUxsSCeo+IAIJhQQYWxWsVmrbn5Dq3Aq0cdeRiJg9G5iW5aEhYabewkIB9RGnISieD/RicnhYZCEdWnN+aytvQFsShjLjAveCtMmJ/CG9qdCuTi0tYjRkAPPnG9F7V0C+6PitaLXSnd/QEP/SORnD4nLRBbSICJAct2nRiklZFiIIxr8urSe0p4dfg58UPrS7IBF5C+OXvbjYiMKV7JsSJV/0P/8TDgcWL8bddxfTqQGtrfjCF5hHB9DZifffhyzj29+GTbHEi9qrEfDaaygsRF8fvvc9yk+OjXHqDLKMl15CcTE2bULt5kqcOUPx4e5u7NzJM/qRI2hpwdAQvv/9mFnpxkCeBc4dyffKKyguRjyOZ54R1+I1Ba79w69+hW99C888g/5+BIOUcUQ8hY8AAG++ieeewwsv4Cc/oW+TwXcpPR5UV+Pxx7FzJ/78Z6C0lGJ14ja2vvoqfvADPPccGhsBk4lajeYwLskyjh3Ds8/iuefw85+bsWg+RRaELHMahd5/Hw8+iK9+FRUVaG4W2oB8Avb5EIn8AxOa8DPP4He/o1w9+bKH330X//7v44/vuw+eQZqyypEI1qxhHhrA/v3Yvh0Aamrg9QJmM4WDPBxm7LoAAOjpwcqV4xEPzz2H11+n3I3weV1+8xs8+ywASBKqqtA9Vk6hrXm9WLuWZ/Tz58clyfbteO89wGQSHvWtPx9isdi+ffsOHToEoKGhwe/3A8jLy/vtb3HffZNvczoR+XQexfnx7SlbWialg9uNxkaavR1f7kEwiI0bJ5/efz8aTzgovjif1+Xjj/GlL40/liR8+ilNOCO31yUcngw+uv9+vPeRmSJ8i8/r4vGMyyCF2lp0dNmEhcBNoD8fotFoJBLZsWOHx+NZtWpVY2OjcjwW+3zqenX33Tj4+3mk5xcK8Rhbg8F0+V5cDDlBHCXm9aKmhnn0//ov3HHH5NOqKhy9XEERZ8rndQkGp4TDPfAAGn96ndTkylcatLl5yh0JwFSUT5EF0dXF43X55JMpdXq3b8f+5uUICC60oT8f7Hb7U0899fLLL8uyvGDBAgCxWCwej1dWnp4sSabUqiuuQlsb0bBDQzyC6sMPceedU458+cv44/M3kX4+EOBR1a5cSQ/QrKgrjPjJfC+yzGP+7+xEbe3UoSvwSXQdaVwdn3Hp4MH00e+6C42/IP48X4j7dNPU59cvREBwFoT+fPD7/U1NTXl5eevWrdu7dy8As9kM4L771rqnFtYue2r5pR4yteHMGaSFP9EwNJQeLSVJuHDbraRikkNdGRnJ0Nemrg7H/kb2+cuXeSo+NTVh06b0g0Xfv5XU8+P18lQETHM4AaiowNkoWZsfPlWtszPDjm/bffkdJ28w/82M6M8Hl8tVV1e3e/dum832rW996+mnn1Z759atOHSerE3o1avCogYmWPQ/15MqLRy1eI8dw+bN6QcdDpxPkHn3Wlt59pSDgxlyB7ZsQVM3ma7IYf4fGVG5n7+6jciyNzbG43U5dizDfKiuxlG/iD6rKRDZl2wT0tisWdDB4cDFENkPwxFS1tycQUYC2LoVn3QR7NEDAZ7Ng9eb2Yt4y61LiUw3ly/zCIKMiTQ1NTjaRGbX5zAunTmTuc3Ghjvzu0mkUFtb5p+NjFAoQ/y0JOFKJXcq9lSExvMB85ba9ZWWRILHcuzxYP36DMerqnC8gUBDFZV0MZWVq+OdYQI1LBBgzg5rbla1EuctJriekQiWL2cbGoDHk1nDXb8eTScIlJaBAWYrcywWU9NwFznHLl+gT8xUR1z8EgDltujRE/y9vTzGpUiEL9+QI5FfVWcAbq+de2L/Jf0/wWFwbG7OLAgALHKO6SdEtbXxpMVl+rUBJVqljcCW0NHBvG0LBMxqm80NK02etlvY/mxG2OdDX6ZckHXLPzt1Su+TaksvN4uKZX0bBofF2ufDhg0qr1ks+rdFIMDYZBYAIMuqgmBjeVQ/aENxqrMOrREEeB0EZgwOd9O5c1i3LvNLS1fm9R7T2714veSRpuzzwZrpCs1bVBD8uGv68SkEg8w6dDCIFStUX3WvTJw+rfn5RIInhKarS12+m0w3wnpGz44OHgmtERhRvkxqb9S7LTisCD6flgTbUh7SSU+kinGaxvAw5s5Vib8sKPi0WS8nqamJXCMQVI8siSRJvXrhNBydLdvbtWqIVW1acPawpt4wMMBTg8zn0xJzaxcHdW6L7m5mHVqWNX9Tp1P/tuCIHfL7te7n2ro5OkqB16sq4QkIBrUMORW3hHV0RY2FdRqC99MAXMuualWs46u5dPq0Ziyc0/mPM5q3ZHMzz2Z6vqYx+c4H5+rcFqnRDpToxP6YTI54SEtXDIV4ggjb2jQtIJWVfR+f1/r8wACz80FHEABLN8XOndP8EzR+QPHzYeNtn9NSWpqbeQzwaTnb6UjS4kuXtCKJOjuZN9PBIBYu1HzHsmVat4Us81gRTp7UsRKv3pnQWp1OnuRR1XRmcXHxtf+nqRR0dzMLAp9PR4Ktrl0S8KhbMkIhqvtN/HzIr3ENnlXXZZuaeDbTuld1Wd01Lacch0Oqv18v9qe0VOu28Hp5YiV0gxVXryvoOKJ+W5w6xWNV09XyNj48opr8wicI/H6sXq35jurqwJ/UE6lPnszgQFVH/HxAZWX4hydVX+Uw74yO6mdM1NxtP68mo/mCCLu69JvaVNz1merifOoUjx9QX7xWV4ca1fVojoKtg4P6Oub6Bxe0t6u8xicIenv1TFOSVBFTjzk/dYpqK88+H3rUdgkmU8Vdn2VWWhIJHgnd2allXBqnulrVwHX8OJWoSGNsTN9muHpnoqVF5TW+pjj6QbHFxZZPVUKvAwGeaLGODv1PL1xtU7VknD3LMx9I7pf5G2+o6oqUQSLi6pGlsHpnIrPB9+9/x44dzCNeuEDQdqy4WNXA1dLCY/UjyXtZfYfz2LFML/D1L+zqIop1ULVkNDdPydighKgbaM1mVUvGwACPA5Uk53LjbZ/LbMmgTyEWV48shdVfWn4yo8bU2MgjKtraiG6rJ34AABC6SURBVLw6VZvzM+iysszZSpSo+EHN5s8fPZHh+OHDqKtjHrqvj6g4juvBysyWjLNneQTBhQtE93O+JRGbXqUhFOIJEhkZIUpkzL/7tpHzmbasH31Ee9kN2D8AqK6+ejKT0sJXXoFQypR9wdLcPO3oiRO4/XbmoXt6SO+of9gz+ftOn+ZJhTl9mmg2lm8rHWyflrYaiXBWXtO2MidZscN0/vw0L8HHH+OLX2Qe2ucj2/EVFFy9mMngQL80GTMfMvrwjx7Fvfcy/0HtkIFUyreVDp2fZmk5eZJnaervJxVzmx+wpSst3EuTjpU5iSRd6Z5WGe2jj9KTp2jQtzJPUPXFVb6/T9Mp/X4edxP5VrxopSV9yxoIqEfXqCI4ni/J6i+vuNI59er85S88d2Q0SvrDQJIG2qYGNkcinHnDra2k+n+l2+n949TN0x/+gH/5F57RyWXckjunXfb2dh5lKRQiXV0WlNzSc2KqkPb5eAwYyuiE333VHQvP/n6qpvreewyVdQTUI8tITQ2O/O+/Tj4PBDhrK7S3ExiXJnCuLMDRo5PPf/tb3HMPz+iffUb6wzgcOPW/eqYEvfMVEKCJNkBFBfz7miafHz2Ku+9mHhrA+fOUrdNTvT9vvcVZ64n8i9fU4My3U1R0pXMsvUGPfT64Nd1qDgdOHihB8/Hx5z//OR54gHksAJcuUSgdy2oXdv6fT8afBAKwWjnLJFK1Wra+sA2//OX4k1/+El/7Gs/QPh9F/8E1a2J/+8X1ybLbf/kLZyjx2Jh6LN00XPesGPq/b44/8XgY1JU0qKrJDH/lS3j77fEn+/Zh1y6GEdljvDTsSwqOn9XiyM/QeQHt7fjGN5gHUvD5KHxKlZXYv/N/VO3ejbo6nDqFF17gGVo3hCaNgqX5I6ayfGVKLFvGo64ACAYp/Hhms1n6+RN4ew+qq3H4MF58kWdo6MXSpbF2Lf5y+elHf/hDrFmDzk7s3s05tI5neiqFawphNuPXv8bgIO69l83Ia0gRfYV4HPjmNxEK4aGH+BsOUH27/HxcnbcQ392DQIBnE69w8SJdEODatRi85f78RTJAed6ZOHeOTuXp6QFe2i3ki4OyBJ7djuvWxfjafyAQ4FQHALS30xnGSkowevsDts8iyMtjvuxG2ZcArFmD5maguJh/Mmgkpqkx7j4T0WaBxEGbSlkZzp0DJElM20JK1qzByIiYL97TQ9cUwGab2D6IGL2riy4kd8UKnD4NFBTwXHaj7EsAVq+G38/856cQiRAblyYYvy1EcP48nZjMzyctQ6WLLFNvfFavpitwrEF/P3VTAIcDGbxyTNA2yaiogKaJhwij7EsA8vOhGsxDSWsrtZfT5WJpzZwRBnHD52+YhKHVW1UVdJIEiWltpS78sHAhhodJ9xvaEPoBU9ET0fqwz4f1asntKdAKdTWGh6mbeFRWIoOXmgkq45JCfr6Y1encOX4jDRe0smDjRjGXXZapW6BBRHsJA/cPAObOFVOAmdwvk0SSxNS6lWWWRkIbNkAnaYsMthLApP5sPWjbgAGwWunas6hx8SJLCGJ1Nbr0sve1MXY+1NSIWbvZ1kEGuT4dr5clVnrRIjHNzfSj/zPhdkMrZZeMWCzGUCVLksQ0x/P7WVLNly/nVZLp5gPtVqmyUoC0CAYpXaQTrFsn4Ldhy2aRJOpWtBlhk/TLl6O1lXdojapH2lA1h1Gju5ulm5rDwbulJpoPDQ0NL7/8cjgcrq+v37NnD/lflySopk0Rw5zWtmyZgNGZC+o5aHpCZESWGcs1ORwCTEx+P2Ok9tKluHiRd3TmtZ1hF56K/nwIh8MWi6WkpKStrW3Xrl0LFy5UVomxsbEwgYJZXs5rgDt/nrEVaFWVAAMc8/VdvJi3v9ngIHsVL37Px7lzjFVFV69G5qQoYthUNYW8PC4xRDQfjh8/Xl9fL0nSsWPHLl26pDjwo9FolOAHnzeP1wBHFUKTBr8Bjrl7SU0NMidFEdPezp5xfQt3EUfmGZWfj0/5Sqpeu2ZmLvrsdnNtIfTnQ3V19fPPP//6668rAXxPPfWUcnzJkiUuAn/6+vW8BjiqEJo0OC0twaBqyVRdrFZcIijoqsHICHuraH67J22r9VQYDFOptLSwW5nLyri8wKT7aeXWr6urs0+4mnTj+RSKini31Dy+LbebywDX3o5Fixg/y29p6etjF9KVlVy3hSzzpHli5Uou98vgIHtVUc7gAGPtreC+LXp6GI1LCsuXQ7X8DAGcrXErK7luCx5lj/O2YLMyJ+EMDujt5WqlyxMzYvh8AJ8BjiGEJhVOSwunB6OiAr29jJ9ltjIn4bG08NVMwooVsROZyioQwqnl8sSMZGM+8BjgGEJo0uC5LTjDkKqr2Q1cfMXTAGDhQvbViaPAJACYzWZmO8ToKGfCCFatYrdksM+H08Se59Wrod8UQgXyRE01LBbG1UmWeTqeAYAksZtcz57lUtUArF/PvjYy7+OTMMv44WGeUlUAUE7TJD4No/JFU8nPR6beKUTwx1xs2QK2tZuvS/U4zLdFPM5TYxIAysvJ24Ckwx8Yt2ULdKr/q9DaKuCyMxu4DKlHNh02GT8ywtM2YBzm+GeicoB6uN2Mt4WQKCC2hVGjUR0569czeuUuXUJhIW8GRWUl4wXMxv4BwNKlLBFm587x9JfihbAcoDbr17PoiqOjXFaEJEuWsGwh+vq4jEsKkkTUhnc6PO6mJBs2MIbqZGk+bNnCIqSFLJ0A5s9nkZRCcnpsNgyoF2NXgzZRUw22sHPafECB0JZuUGPRIka/k4H5oqnk57NYHjnd/kkYws5HRwWEPCgwTMXz59n94qksWsQiJvmDXBQYnKHBIO9mWoHZ62VgvmgaDDtLIblEAGpqqOOfOzs566dNUltLrSsOD4spRcBwW5DXBdVl3Tpqc/PZs2I0ArA6Q7NhX5p4P93OcmSEog6XLrr9ddIg6X5CyKZN+Otf9d+WipBMJoWVK+mmhM8n7I7Mz6f2Ug8PC1PV3G4Wc3OW7EsANm1CU5P+25KcOSNMQoN+Z6ndSpQKSaKLjRMrCNaupVOZ/H4xW3kF2lVOSK6pQkUFi7k5S/tp0N8WHo8AK0eSzZspzH888ff8nDtHV5dOG9rbQohVLcntt1OE2RJ2eyCHYZnN3nwApbQQtatToHJODQyYhZh3kmzfTqFJHzvG65lOg3wbJsuCLUvV1RRiSKwgAFMeeZbsSwpf/CKOHCF6p8BdXRJyn+vx48J0aAW3G598ov82gyDfuQ0OirHzJpEkip1bSwtKS8XUMlPYupX6srPPhy56A29VFRobid55+jS+8AXqU9JmvH4mAQMD4g3whLutWCzGV4k8A+Qb+tOnBQsCAC4X6YZ+aEiAJy4Vm43aJ8g+H+xM/ipCIX3ihGCdAcD69aRKC3/0znRWryZau0+cMAsXBORWV79fvCDYupXIjiLKE5fGvHl0uRDs88HClOK6ZYuwsnm0SBIiEf23dXYK3tUp3H470dotfPOgQGJ1ZagVS4LDQVS29MQJbNsmfvQvfQkHD1KsOVndTwOorcXBgzrv4U+FUYNEk/7rX8X4htNgjucRwp134sMPdd7j83HliGqwfLm+sfv0aZHmxCTl5XReiGzPBxAYjpqasHWrIUNv2oSPPtJ5T3+/UWXqdVWmnh7BBpYkNhsuqDRrT3LsmCGCAEBdHf78Z533iIpFmI7DgdFR0jfPwHzYsUNHj29pMSqeTJJ0rnswyNO5XIfbb8cf/6j1ho8/5ukJrIOu8fHKFaMEgcOh4xNsbuZsc6fFY49RBMKxz4exsTG2D9bUYP9+1VeDQUPU9yQPP6wlq/bvxx13GDW0JOHmm7W2d8GggR1U7r4b9fWqrzY3Y8sWo4YGcOedWvvG997jbHOnhc1GIV7Z5wNJcT411qxR3d59+CF27GD+w/pUVOD4cdVXjVOWFO65R3V719yM7dsNHBqace8HD6K21sCha2vx3nuZX4rFYjPRRykz7POhgmP7c999MTVZxVOkkZC6usyy6sgRPPSQsUNrbO/ee8/YOxLAV76C3/0uw3FZZq93RI6ajWv/fvMTTxg+OiHZi+dLxWw2u1wZ1Nl338XDDzP/VVK2b898W7z/vnhv1HSeeALvvpt+sKdHZAyfGvn5iMczLBG/+Q2efNLw0R95ZLILcSptbTOWfjSdGdhPKzzyCF5/fcoRWYbfb4jRbTpPPIH3359ypLERjz6ajaGVokxp9sc33sAjj2Rj9KeewiuvTDminEl2NJa6unRTyltvsfWJNgqiesb79u2rr68HsGfPnoaGBlFjf/3rU36bl17Cs8+K+ts61NRgaGhSawoG4fEYuKVL47nn8KMfTT596y3D9bQkkoSHHsJbb00e+dGP8PWvZ2n07dvx5z9Pak3NzYjHWfo8GMdNN27c0H2T1+s9cOCA2+1euXJlQ0PDrl27otFoS0vLDu6db2cn9u1DbS2OHMF3vpPtdfPXv8bY2Hgg+ve+l9WhZRkvvYRbb0VLC+680/CdQxoeD/bvx5o1+Pvf8YMfZLst8KuvwmpFPA6LBV/9alaH1oVoPsRisR//+Mfbtm1Lzodr167t3bu3rq6ONksuIyMjhu+hNZDlGekTDQCjo7xFlv5JR5dlzJkTExu9JwT9+eD3+1tbWwE88MAD+/btKy8v37FjRzgcbmtrq6ury8pJ5siRJYjWh+mEw2Eh+lKOHLMKxvkAIBabjetdjhxUNDQ0bN26NZm8wG5vzU2GHP/s+P3+d955py2lUwb7fODskiiKWXIamDVnMktOA7PmTGKxmNqZuFyuFStWpG6DGedDLBbz6/Vj0r0cJNdrVC9Ut4Ug2UR3IN1RSE5V90xI/gj/qfr9fv4rrzsKCcf0Sglk54JoNP70+/2rVq1KvZPn6J5QkkOHDiV7PsTj8aGhIYemv6C3t7dMM68nGAzOnz8/Ly+P54/09vYePnxY4w3ZPFXtM9EdheRUz507t1ozSULIVdUdhfCqahdxFHUDUF3VhQsX7ppwiS9YsCAajVpTSlew76dz5PjvB6O+5Pf7tWVhFjh06NChQ4eUk1EezBSxWMzr9SqnxBMGz09DQ0M4HB4dHRUYVsPA4cOHlZXB4/F4mZuy8OHxeJTfwuPxkJ8My3yIxWKNjY0AdLcQhrJx40blHBobG61WK219ZYHU19efOnXK4/E4HI433nhjpk5jz549TqfTbrfv3bt369atMzUlRkdH+/r6Dh8+HA6Ho9FoU1PTjGysJUlqamoCcPbs2YGBAa/XOzAw4PP5tPcbLPMhGo3a7fYlS5YMDw8znqwIbDZbT0/P4sWLAVRVVantmYzG4/HY7fZYLBaNRkka1BvHuXPnJEmqr68vKCiw2+0ztVLdfPPNly5dAtDb2+twOOx2+zXm5oocuFwui8USDocrKioqKyt9Pp/NZrPZbJcvX9b4FMt8sNvtnZ2djY2NVUaURiHm2WefTbpR9u7du8bQNFN1ysrKnE5nJBJZs2aNci/OyGkAeOSRR4LBoNPpNJvN9fX1awWWg6YhKZjKysoOHDjQ2dlpm4kwqaNHjx4/ftxut3s8ngMHDtTV1SmKk7bMYtxPx2Kxa9euzcj3TKIsfMo5jI6OzuzJKN76GT+NcDisyIjkgxlhdHT05ptvVi6I8mBGzgGAzWZTtDWz2Zx8oPGpnH0pR45JZiw/LkeOWUhuPuTIMcn/B9n/4tK9Hk8rAAAAAElFTkSuQmCC)"
      ],
      "metadata": {
        "id": "SncNQdv12iqK"
      }
    },
    {
      "cell_type": "code",
      "source": [
        ""
      ],
      "metadata": {
        "id": "g5PItjl723QO"
      },
      "execution_count": null,
      "outputs": []
    }
  ]
}