{
  "nbformat": 4,
  "nbformat_minor": 0,
  "metadata": {
    "colab": {
      "name": "Analog Computer IVP ODE Euler.ipynb",
      "provenance": [],
      "collapsed_sections": [
        "Kre27ElF0lc2",
        "a50V_MBfBrQI",
        "PIayeD5n1NxW",
        "utW_KjuzfIPz"
      ],
      "include_colab_link": true
    },
    "kernelspec": {
      "name": "python3",
      "display_name": "Python 3"
    },
    "language_info": {
      "name": "python"
    }
  },
  "cells": [
    {
      "cell_type": "markdown",
      "metadata": {
        "id": "view-in-github",
        "colab_type": "text"
      },
      "source": [
        "<a href=\"https://colab.research.google.com/github/samuelj2008/samuelj2008/blob/main/Analog_Computer_IVP_ODE_Euler.ipynb\" target=\"_parent\"><img src=\"https://colab.research.google.com/assets/colab-badge.svg\" alt=\"Open In Colab\"/></a>"
      ]
    },
    {
      "cell_type": "code",
      "source": [
        "import numpy as np"
      ],
      "metadata": {
        "id": "87NU6KwFj151"
      },
      "execution_count": null,
      "outputs": []
    },
    {
      "cell_type": "code",
      "source": [
        "import matplotlib.pyplot as plt"
      ],
      "metadata": {
        "id": "en56t5aZj5_8"
      },
      "execution_count": null,
      "outputs": []
    },
    {
      "cell_type": "code",
      "metadata": {
        "id": "9r4gU06k5bWd"
      },
      "source": [
        "# %%capture\n",
        "# !pip install git+https://github.com/williamedwardhahn/mpcr\n",
        "# from mpcr import *"
      ],
      "execution_count": null,
      "outputs": []
    },
    {
      "cell_type": "code",
      "source": [
        "def matprint(mat, fmt=\"g\"):\n",
        "    col_maxes = [max([len((\"{:\"+fmt+\"}\").format(x)) for x in col]) for col in mat.T]\n",
        "    for x in mat:\n",
        "        for i, y in enumerate(x):\n",
        "            print((\"{:\"+str(col_maxes[i])+fmt+\"}\").format(y), end=\"  \")\n",
        "        print(\"\")"
      ],
      "metadata": {
        "id": "9RZePOGIiVxC"
      },
      "execution_count": null,
      "outputs": []
    },
    {
      "cell_type": "markdown",
      "source": [
        "<img src=\"https://cdn1.byjus.com/wp-content/uploads/2018/11/maths/2016/06/03060820/Differential-Equation.jpg\">"
      ],
      "metadata": {
        "id": "YJ0k1mmm6Hpn"
      }
    },
    {
      "cell_type": "markdown",
      "source": [
        "# Exponential Growth & Exponential Decay"
      ],
      "metadata": {
        "id": "Kre27ElF0lc2"
      }
    },
    {
      "cell_type": "code",
      "metadata": {
        "id": "VcGtgGPJe8nj"
      },
      "source": [
        "def dx_dt(x):\n",
        "    return 0.1*x"
      ],
      "execution_count": null,
      "outputs": []
    },
    {
      "cell_type": "code",
      "metadata": {
        "colab": {
          "base_uri": "https://localhost:8080/"
        },
        "id": "z2DnwqCNe8no",
        "outputId": "8f4d82b3-c875-457d-dac8-576de7248135"
      },
      "source": [
        "x = 100\n",
        "t0 = 0 #Starting Time\n",
        "tf = 60 #Final Stopping Time\n",
        "dt = 0.001 # Time Step Size\n",
        "n = int((tf-t0)/dt)\n",
        "n"
      ],
      "execution_count": null,
      "outputs": [
        {
          "output_type": "execute_result",
          "data": {
            "text/plain": [
              "60000"
            ]
          },
          "metadata": {},
          "execution_count": 7
        }
      ]
    },
    {
      "cell_type": "code",
      "source": [
        "X = np.zeros(n,)"
      ],
      "metadata": {
        "id": "oij0YZ_cfUJE"
      },
      "execution_count": null,
      "outputs": []
    },
    {
      "cell_type": "code",
      "metadata": {
        "id": "g6ScdR6Ye8nr"
      },
      "source": [
        "for i in range(n):\n",
        "\n",
        "    x = x + dx_dt(x)*dt\n",
        "\n",
        "    X[i] = x"
      ],
      "execution_count": null,
      "outputs": []
    },
    {
      "cell_type": "code",
      "metadata": {
        "colab": {
          "base_uri": "https://localhost:8080/",
          "height": 54
        },
        "outputId": "89d78047-f1da-4dcb-84d5-1801dd298a86",
        "id": "9-dPQB_ge8nu"
      },
      "source": [
        "plt.figure(figsize=(10,10))\n",
        "plt.plot(X,'.');"
      ],
      "execution_count": null,
      "outputs": [
        {
          "output_type": "display_data",
          "data": {
            "image/png": "[encoded data removed]",
            "text/plain": [
              "<Figure size 720x720 with 1 Axes>"
            ]
          },
          "metadata": {
            "needs_background": "light"
          }
        }
      ]
    },
    {
      "cell_type": "code",
      "metadata": {
        "id": "nnCNZ6vTAPY4"
      },
      "source": [
        "def dx_dt(x,t):\n",
        "    return -0.1*x"
      ],
      "execution_count": null,
      "outputs": []
    },
    {
      "cell_type": "code",
      "metadata": {
        "id": "Yr0rYO7sAPgd"
      },
      "source": [
        "x = 100\n",
        "t = 0\n",
        "dt = 0.001\n",
        "n = 100000\n",
        "X = np.zeros(n,)"
      ],
      "execution_count": null,
      "outputs": []
    },
    {
      "cell_type": "code",
      "metadata": {
        "id": "G4CBYOQoAkt0",
        "outputId": "bc5fa7d6-a634-4d41-8477-0135a8a66136",
        "colab": {
          "base_uri": "https://localhost:8080/",
          "height": 276
        }
      },
      "source": [
        "for i in range(n):\n",
        "\n",
        "    x = x + dx_dt(x,t)*dt\n",
        "\n",
        "    X[i] = x\n",
        "\n",
        "    import matplotlib.pyplot as plt\n",
        "plt.plot(x);\n",
        "plt.grid()"
      ],
      "execution_count": 17,
      "outputs": [
        {
          "output_type": "display_data",
          "data": {
            "image/png": "[encoded data removed]",
            "text/plain": [
              "<Figure size 432x288 with 1 Axes>"
            ]
          },
          "metadata": {
            "needs_background": "light"
          }
        }
      ]
    },
    {
      "cell_type": "code",
      "metadata": {
        "colab": {
          "base_uri": "https://localhost:8080/",
          "height": 54
        },
        "id": "OYAbolFCAkzA",
        "outputId": "0fadcc35-edc0-44f4-ebd9-a4316c462d0f"
      },
      "source": [
        "plt.figure(figsize=(10,10))\n",
        "plt.plot(X);"
      ],
      "execution_count": null,
      "outputs": [
        {
          "output_type": "display_data",
          "data": {
            "image/png": "[encoded data removed]",
            "text/plain": [
              "<Figure size 720x720 with 1 Axes>"
            ]
          },
          "metadata": {
            "needs_background": "light"
          }
        }
      ]
    },
    {
      "cell_type": "markdown",
      "source": [
        "# Matrix Version Damped Harmonic Oscillator"
      ],
      "metadata": {
        "id": "a50V_MBfBrQI"
      }
    },
    {
      "cell_type": "code",
      "source": [
        "model = np.array([[0,1],[-2,-0.1]])"
      ],
      "metadata": {
        "id": "AdQwdBzEAFe4"
      },
      "execution_count": null,
      "outputs": []
    },
    {
      "cell_type": "code",
      "source": [
        "matprint(model)"
      ],
      "metadata": {
        "colab": {
          "base_uri": "https://localhost:8080/"
        },
        "outputId": "ddc434a5-d18f-46dd-c535-91f69a120238",
        "id": "A3qjh6yYAFe5"
      },
      "execution_count": null,
      "outputs": [
        {
          "output_type": "stream",
          "name": "stdout",
          "text": [
            " 0     1  \n",
            "-2  -0.1  \n"
          ]
        }
      ]
    },
    {
      "cell_type": "code",
      "source": [
        "plt.matshow(model)"
      ],
      "metadata": {
        "colab": {
          "base_uri": "https://localhost:8080/",
          "height": 72
        },
        "outputId": "17f2f881-77a7-4ef4-cab6-c4499c568ace",
        "id": "AaRBWFzFAqYc"
      },
      "execution_count": null,
      "outputs": [
        {
          "output_type": "execute_result",
          "data": {
            "text/plain": [
              "<matplotlib.image.AxesImage at 0x7f82adab04d0>"
            ]
          },
          "metadata": {},
          "execution_count": 17
        },
        {
          "output_type": "display_data",
          "data": {
            "image/png": "[encoded data removed]",
            "text/plain": [
              "<Figure size 288x288 with 1 Axes>"
            ]
          },
          "metadata": {
            "needs_background": "light"
          }
        }
      ]
    },
    {
      "cell_type": "code",
      "source": [
        "def dx_dt(x,t):\n",
        "    return model @ x "
      ],
      "metadata": {
        "id": "XiRV2QRFAqY3"
      },
      "execution_count": null,
      "outputs": []
    },
    {
      "cell_type": "code",
      "metadata": {
        "id": "0_AfvFP1AqY3",
        "outputId": "7c61998d-87f4-4738-b92a-233c15338887",
        "colab": {
          "base_uri": "https://localhost:8080/",
          "height": 265
        }
      },
      "source": [
        "d = 2\n",
        "x = np.array([0,1])\n",
        "\n",
        "t  = 0\n",
        "tf = 50\n",
        "dt = 0.001\n",
        "\n",
        "n = int((tf-t)/dt)\n",
        "\n",
        "X = np.zeros((n,d))\n",
        "\n",
        "import matplotlib.pyplot as plt\n",
        "plt.plot(x);\n",
        "plt.grid()\n"
      ],
      "execution_count": 11,
      "outputs": [
        {
          "output_type": "display_data",
          "data": {
            "image/png": "[encoded data removed]",
            "text/plain": [
              "<Figure size 432x288 with 1 Axes>"
            ]
          },
          "metadata": {
            "needs_background": "light"
          }
        }
      ]
    },
    {
      "cell_type": "code",
      "metadata": {
        "id": "rl1MIKlRAqY4",
        "outputId": "ea595cd6-1c20-4c0b-f67a-79598939f9eb",
        "colab": {
          "base_uri": "https://localhost:8080/",
          "height": 276
        }
      },
      "source": [
        "for i in range(n):\n",
        "\n",
        "    x = x + dx_dt(x,t)*dt\n",
        "\n",
        "    X[i] = x\n",
        "\n",
        "    import matplotlib.pyplot as plt\n",
        "plt.plot(x);\n",
        "plt.grid()\n",
        "\n",
        "    "
      ],
      "execution_count": 16,
      "outputs": [
        {
          "output_type": "display_data",
          "data": {
            "image/png": "[encoded data removed]",
            "text/plain": [
              "<Figure size 432x288 with 1 Axes>"
            ]
          },
          "metadata": {
            "needs_background": "light"
          }
        }
      ]
    },
    {
      "cell_type": "code",
      "metadata": {
        "colab": {
          "base_uri": "https://localhost:8080/",
          "height": 265
        },
        "outputId": "50e93c47-ac85-4c50-ab7e-8f736271b211",
        "id": "XonEZeIlAqY4"
      },
      "source": [
        "plt.plot(X[:, 0]);"
      ],
      "execution_count": 15,
      "outputs": [
        {
          "output_type": "display_data",
          "data": {
            "image/png": "[encoded data removed]",
            "text/plain": [
              "<Figure size 432x288 with 1 Axes>"
            ]
          },
          "metadata": {
            "needs_background": "light"
          }
        }
      ]
    },
    {
      "cell_type": "code",
      "source": [
        ""
      ],
      "metadata": {
        "id": "-TzoaO40AFAd"
      },
      "execution_count": null,
      "outputs": []
    },
    {
      "cell_type": "markdown",
      "source": [
        "# Matrix Version Predator-Prey System"
      ],
      "metadata": {
        "id": "PIayeD5n1NxW"
      }
    },
    {
      "cell_type": "code",
      "metadata": {
        "id": "rpa7ToLySk6j"
      },
      "source": [
        "def dx_dt(x,t):\n",
        "    return np.array([\n",
        "                      alpha*x[0]  - beta*x[0]*x[1],\n",
        "                                   delta*x[0]*x[1] - gamma*x[1]  \n",
        "    ])"
      ],
      "execution_count": 3,
      "outputs": []
    },
    {
      "cell_type": "code",
      "source": [
        "import numpy as np\n",
        "x = np.zeros(2,) #track pos and vel, x and xdot\n",
        "\n",
        "x[0] = 10 #pos spot\n",
        "x[1] = 0  #vel spot"
      ],
      "metadata": {
        "id": "j_LrUMgXhcRa"
      },
      "execution_count": 5,
      "outputs": []
    },
    {
      "cell_type": "code",
      "source": [
        "x.shape"
      ],
      "metadata": {
        "colab": {
          "base_uri": "https://localhost:8080/"
        },
        "id": "M3_YWRs7hu2Z",
        "outputId": "84f3f4f8-d15f-43bd-9105-73e0454816b7"
      },
      "execution_count": null,
      "outputs": [
        {
          "output_type": "execute_result",
          "data": {
            "text/plain": [
              "(2,)"
            ]
          },
          "metadata": {},
          "execution_count": 34
        }
      ]
    },
    {
      "cell_type": "code",
      "metadata": {
        "id": "6Vywlv9DSk6p",
        "outputId": "442b6637-2a7f-4886-c2d2-244be4c72ff3",
        "colab": {
          "base_uri": "https://localhost:8080/",
          "height": 265
        }
      },
      "source": [
        "t  = 0\n",
        "tf = 50\n",
        "dt = 0.001\n",
        "\n",
        "n = int((tf-t)/dt)\n",
        "X = np.zeros((n,2))\n",
        "\n",
        "from matplotlib import pyplot as plt \n",
        "plt.plot(x);\n",
        "plt.grid()"
      ],
      "execution_count": 6,
      "outputs": [
        {
          "output_type": "display_data",
          "data": {
            "image/png": "[encoded data removed]",
            "text/plain": [
              "<Figure size 432x288 with 1 Axes>"
            ]
          },
          "metadata": {
            "needs_background": "light"
          }
        }
      ]
    },
    {
      "cell_type": "code",
      "metadata": {
        "id": "r6vcIz7ITJHY"
      },
      "source": [
        "alpha = 1 \n",
        "beta = 0.05 \n",
        "delta = 0.02\n",
        "gamma = 0.5"
      ],
      "execution_count": 7,
      "outputs": []
    },
    {
      "cell_type": "code",
      "metadata": {
        "id": "-IULmaoUSk6t"
      },
      "source": [
        "for i in range(n):\n",
        "\n",
        "    x = x + dx_dt(x,t)*dt\n",
        "\n",
        "    X[i] = x"
      ],
      "execution_count": 8,
      "outputs": []
    },
    {
      "cell_type": "code",
      "metadata": {
        "colab": {
          "base_uri": "https://localhost:8080/",
          "height": 276
        },
        "id": "_IBVcn4xSk6w",
        "outputId": "1ce92c29-5b06-45a1-a923-f0f40401c201"
      },
      "source": [
        "plt.plot(X)\n",
        "plt.grid()"
      ],
      "execution_count": 9,
      "outputs": [
        {
          "output_type": "display_data",
          "data": {
            "image/png": "[encoded data removed]",
            "text/plain": [
              "<Figure size 432x288 with 1 Axes>"
            ]
          },
          "metadata": {
            "needs_background": "light"
          }
        }
      ]
    },
    {
      "cell_type": "code",
      "source": [
        ""
      ],
      "metadata": {
        "id": "WIkUeyykXuq6"
      },
      "execution_count": null,
      "outputs": []
    },
    {
      "cell_type": "code",
      "source": [
        ""
      ],
      "metadata": {
        "id": "wc1IdowKXusd"
      },
      "execution_count": null,
      "outputs": []
    },
    {
      "cell_type": "code",
      "source": [
        ""
      ],
      "metadata": {
        "id": "kYVk15MZ0Yh1"
      },
      "execution_count": null,
      "outputs": []
    },
    {
      "cell_type": "markdown",
      "source": [
        "# Matrix Lorenz System"
      ],
      "metadata": {
        "id": "utW_KjuzfIPz"
      }
    },
    {
      "cell_type": "markdown",
      "source": [
        ""
      ],
      "metadata": {
        "id": "n64gBnB0e8HF"
      }
    },
    {
      "cell_type": "markdown",
      "source": [
        "$\\frac{dx}{dt}=\\sigma(y-x)$"
      ],
      "metadata": {
        "id": "nOeNYqNUgqyP"
      }
    },
    {
      "cell_type": "markdown",
      "source": [
        "$\\frac{dy}{dt}=x(p-z)-y$"
      ],
      "metadata": {
        "id": "zV_Bqg26g2SZ"
      }
    },
    {
      "cell_type": "markdown",
      "source": [
        "$\\frac{dz}{dt}=xy-\\beta z$"
      ],
      "metadata": {
        "id": "NRdWTod3g2qX"
      }
    },
    {
      "cell_type": "code",
      "source": [
        "rho = 28.0\n",
        "sigma = 10.0\n",
        "beta = 8.0 / 3.0"
      ],
      "metadata": {
        "id": "VQ6kggu1fE24"
      },
      "execution_count": null,
      "outputs": []
    },
    {
      "cell_type": "code",
      "source": [
        "model = np.array([[-sigma,sigma,0,0,0],[rho,-1,0,0,-1],[0,0,-beta,1,0]])"
      ],
      "metadata": {
        "id": "x74WvNsSh47d"
      },
      "execution_count": null,
      "outputs": []
    },
    {
      "cell_type": "code",
      "source": [
        "matprint(model)"
      ],
      "metadata": {
        "colab": {
          "base_uri": "https://localhost:8080/"
        },
        "id": "LH8XptdBh7lG",
        "outputId": "a4734aa0-3f23-4998-c060-9c56996293a5"
      },
      "execution_count": null,
      "outputs": [
        {
          "output_type": "stream",
          "name": "stdout",
          "text": [
            "-10  10         0  0   0  \n",
            " 28  -1         0  0  -1  \n",
            "  0   0  -2.66667  1   0  \n"
          ]
        }
      ]
    },
    {
      "cell_type": "code",
      "source": [
        "plt.matshow(model)"
      ],
      "metadata": {
        "colab": {
          "base_uri": "https://localhost:8080/",
          "height": 72
        },
        "id": "a2oKksi5zvrY",
        "outputId": "673f08c6-99de-4ee9-fc24-7764964dab38"
      },
      "execution_count": null,
      "outputs": [
        {
          "output_type": "execute_result",
          "data": {
            "text/plain": [
              "<matplotlib.image.AxesImage at 0x7f7ad69282d0>"
            ]
          },
          "metadata": {},
          "execution_count": 30
        },
        {
          "output_type": "display_data",
          "data": {
            "image/png": "[encoded data removed]",
            "text/plain": [
              "<Figure size 480x288 with 1 Axes>"
            ]
          },
          "metadata": {
            "needs_background": "light"
          }
        }
      ]
    },
    {
      "cell_type": "code",
      "source": [
        "def dx_dt(x, t):\n",
        "    x, y, z = x\n",
        "    state = np.array([x,y,z,x*y,x*z])\n",
        "    return model @ state "
      ],
      "metadata": {
        "id": "MCnhCdaSfE3P"
      },
      "execution_count": null,
      "outputs": []
    },
    {
      "cell_type": "code",
      "metadata": {
        "id": "1RA6Z-MmfE3P",
        "outputId": "73d3bb81-6da4-4294-c03e-786bdef1f4bf",
        "colab": {
          "base_uri": "https://localhost:8080/",
          "height": 265
        }
      },
      "source": [
        "d = 3\n",
        "x = np.array([1,1,1])\n",
        "\n",
        "t  = 0\n",
        "tf = 50\n",
        "dt = 0.001\n",
        "\n",
        "n = int((tf-t)/dt)\n",
        "X = np.zeros((n,d))\n",
        "\n",
        "from matplotlib import pyplot as plt\n",
        "plt.plot(x);\n",
        "plt.grid()"
      ],
      "execution_count": 10,
      "outputs": [
        {
          "output_type": "display_data",
          "data": {
            "image/png": "[encoded data removed]",
            "text/plain": [
              "<Figure size 432x288 with 1 Axes>"
            ]
          },
          "metadata": {
            "needs_background": "light"
          }
        }
      ]
    },
    {
      "cell_type": "code",
      "metadata": {
        "id": "ZKInyQXUfE3Q"
      },
      "source": [
        "for i in range(n):\n",
        "\n",
        "    x = x + dx_dt(x,t)*dt\n",
        "\n",
        "    X[i] = x"
      ],
      "execution_count": null,
      "outputs": []
    },
    {
      "cell_type": "code",
      "metadata": {
        "colab": {
          "base_uri": "https://localhost:8080/",
          "height": 54
        },
        "outputId": "c77630a0-e8db-4815-8531-20de5c7f20b6",
        "id": "fUQOysT3fE3Q"
      },
      "source": [
        "fig = plt.figure()\n",
        "ax = fig.gca(projection=\"3d\")\n",
        "ax.plot(X[:, 0], X[:, 1], X[:, 2]);"
      ],
      "execution_count": null,
      "outputs": [
        {
          "output_type": "display_data",
          "data": {
            "image/png": "[encoded data removed]",
            "text/plain": [
              "<Figure size 432x288 with 1 Axes>"
            ]
          },
          "metadata": {
            "needs_background": "light"
          }
        }
      ]
    },
    {
      "cell_type": "code",
      "source": [
        ""
      ],
      "metadata": {
        "id": "Sy2_1ONvWeQH"
      },
      "execution_count": null,
      "outputs": []
    },
    {
      "cell_type": "code",
      "source": [
        ""
      ],
      "metadata": {
        "id": "O_GFHIHjAE8V"
      },
      "execution_count": null,
      "outputs": []
    }
  ]
}